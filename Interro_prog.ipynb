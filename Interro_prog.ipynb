{
 "cells": [
  {
   "cell_type": "markdown",
   "id": "a681bdb0-5c2c-4dcd-afe1-9443cca5dfd5",
   "metadata": {},
   "source": [
    "# 1. Importation des packages"
   ]
  },
  {
   "cell_type": "code",
   "execution_count": null,
   "id": "833222d9-d778-4c9a-ae68-d5fc5627ade1",
   "metadata": {},
   "outputs": [],
   "source": [
    "# Importer les packages\n",
    "import pandas as pd\n",
    "import numpy as np\n",
    "import matplotlib.pyplot as plt\n",
    "import seaborn as sns\n",
    "import joblib\n",
    "\n",
    "from sklearn.preprocessing import LabelEncoder\n",
    "import pandas as pd\n",
    "\n",
    "from sklearn.preprocessing import LabelEncoder\n",
    "from sklearn.model_selection import train_test_split\n",
    "from sklearn.preprocessing import StandardScaler\n",
    "\n",
    "from sklearn.linear_model import LinearRegression\n",
    "from sklearn.ensemble import RandomForestRegressor\n",
    "from sklearn.tree import DecisionTreeRegressor\n",
    "from sklearn.neighbors import KNeighborsRegressor\n",
    "from sklearn. svm import SVR\n",
    "\n",
    "\n",
    "from sklearn.metrics import mean_squared_error, r2_score, accuracy_score, f1_score, precision_score, recall_score, confusion_matrix, ConfusionMatrixDisplay\n",
    "\n",
    "import warnings\n",
    "warnings.filterwarnings('ignore')"
   ]
  },
  {
   "cell_type": "markdown",
   "id": "e387fe3b-5f2e-414a-8890-b7e006f73e93",
   "metadata": {},
   "source": [
    "# 2. Chargement des données"
   ]
  },
  {
   "cell_type": "code",
   "execution_count": 2,
   "id": "6d0bfadb-8bbf-4617-8b54-213cb74b81d8",
   "metadata": {},
   "outputs": [
    {
     "data": {
      "text/html": [
       "<div>\n",
       "<style scoped>\n",
       "    .dataframe tbody tr th:only-of-type {\n",
       "        vertical-align: middle;\n",
       "    }\n",
       "\n",
       "    .dataframe tbody tr th {\n",
       "        vertical-align: top;\n",
       "    }\n",
       "\n",
       "    .dataframe thead th {\n",
       "        text-align: right;\n",
       "    }\n",
       "</style>\n",
       "<table border=\"1\" class=\"dataframe\">\n",
       "  <thead>\n",
       "    <tr style=\"text-align: right;\">\n",
       "      <th></th>\n",
       "      <th>age</th>\n",
       "      <th>sex</th>\n",
       "      <th>bmi</th>\n",
       "      <th>children</th>\n",
       "      <th>smoker</th>\n",
       "      <th>region</th>\n",
       "      <th>charges</th>\n",
       "    </tr>\n",
       "  </thead>\n",
       "  <tbody>\n",
       "    <tr>\n",
       "      <th>0</th>\n",
       "      <td>19</td>\n",
       "      <td>female</td>\n",
       "      <td>27.900</td>\n",
       "      <td>0</td>\n",
       "      <td>yes</td>\n",
       "      <td>southwest</td>\n",
       "      <td>16884.92400</td>\n",
       "    </tr>\n",
       "    <tr>\n",
       "      <th>1</th>\n",
       "      <td>18</td>\n",
       "      <td>male</td>\n",
       "      <td>33.770</td>\n",
       "      <td>1</td>\n",
       "      <td>no</td>\n",
       "      <td>southeast</td>\n",
       "      <td>1725.55230</td>\n",
       "    </tr>\n",
       "    <tr>\n",
       "      <th>2</th>\n",
       "      <td>28</td>\n",
       "      <td>male</td>\n",
       "      <td>33.000</td>\n",
       "      <td>3</td>\n",
       "      <td>no</td>\n",
       "      <td>southeast</td>\n",
       "      <td>4449.46200</td>\n",
       "    </tr>\n",
       "    <tr>\n",
       "      <th>3</th>\n",
       "      <td>33</td>\n",
       "      <td>male</td>\n",
       "      <td>22.705</td>\n",
       "      <td>0</td>\n",
       "      <td>no</td>\n",
       "      <td>northwest</td>\n",
       "      <td>21984.47061</td>\n",
       "    </tr>\n",
       "    <tr>\n",
       "      <th>4</th>\n",
       "      <td>32</td>\n",
       "      <td>male</td>\n",
       "      <td>28.880</td>\n",
       "      <td>0</td>\n",
       "      <td>no</td>\n",
       "      <td>northwest</td>\n",
       "      <td>3866.85520</td>\n",
       "    </tr>\n",
       "  </tbody>\n",
       "</table>\n",
       "</div>"
      ],
      "text/plain": [
       "   age     sex     bmi  children smoker     region      charges\n",
       "0   19  female  27.900         0    yes  southwest  16884.92400\n",
       "1   18    male  33.770         1     no  southeast   1725.55230\n",
       "2   28    male  33.000         3     no  southeast   4449.46200\n",
       "3   33    male  22.705         0     no  northwest  21984.47061\n",
       "4   32    male  28.880         0     no  northwest   3866.85520"
      ]
     },
     "execution_count": 2,
     "metadata": {},
     "output_type": "execute_result"
    }
   ],
   "source": [
    "data = pd.read_csv('insurance.csv')\n",
    "data.head()"
   ]
  },
  {
   "cell_type": "markdown",
   "id": "b7bb912d-1e92-466d-abe9-68ec48c772c1",
   "metadata": {},
   "source": [
    "# 3. Analyse de données"
   ]
  },
  {
   "cell_type": "code",
   "execution_count": 3,
   "id": "393a9e37-6a4f-4207-9cb9-ff0e08530c60",
   "metadata": {},
   "outputs": [
    {
     "data": {
      "text/plain": [
       "(1338, 7)"
      ]
     },
     "execution_count": 3,
     "metadata": {},
     "output_type": "execute_result"
    }
   ],
   "source": [
    "data.shape"
   ]
  },
  {
   "cell_type": "code",
   "execution_count": 4,
   "id": "bbfe031c-637d-49d6-a31b-adbb0ad11e83",
   "metadata": {},
   "outputs": [
    {
     "data": {
      "text/plain": [
       "age         0\n",
       "sex         0\n",
       "bmi         0\n",
       "children    0\n",
       "smoker      0\n",
       "region      0\n",
       "charges     0\n",
       "dtype: int64"
      ]
     },
     "execution_count": 4,
     "metadata": {},
     "output_type": "execute_result"
    }
   ],
   "source": [
    "data.isnull().sum()"
   ]
  },
  {
   "cell_type": "code",
   "execution_count": 5,
   "id": "eb7b882f-f73e-474c-84ee-f378cd5ca55a",
   "metadata": {},
   "outputs": [
    {
     "name": "stdout",
     "output_type": "stream",
     "text": [
      "<class 'pandas.core.frame.DataFrame'>\n",
      "RangeIndex: 1338 entries, 0 to 1337\n",
      "Data columns (total 7 columns):\n",
      " #   Column    Non-Null Count  Dtype  \n",
      "---  ------    --------------  -----  \n",
      " 0   age       1338 non-null   int64  \n",
      " 1   sex       1338 non-null   object \n",
      " 2   bmi       1338 non-null   float64\n",
      " 3   children  1338 non-null   int64  \n",
      " 4   smoker    1338 non-null   object \n",
      " 5   region    1338 non-null   object \n",
      " 6   charges   1338 non-null   float64\n",
      "dtypes: float64(2), int64(2), object(3)\n",
      "memory usage: 73.3+ KB\n"
     ]
    }
   ],
   "source": [
    "data.info()"
   ]
  },
  {
   "cell_type": "markdown",
   "id": "f8adc87c-7433-4580-92ae-da75263775c7",
   "metadata": {},
   "source": [
    "# 4. Prétraitement des données"
   ]
  },
  {
   "cell_type": "code",
   "execution_count": 6,
   "id": "ecfedbfa-97f7-4f5d-903e-a8dd113bb236",
   "metadata": {},
   "outputs": [],
   "source": [
    "list_object = ['sex',\n",
    "               'smoker',\n",
    "               'region']"
   ]
  },
  {
   "cell_type": "code",
   "execution_count": 7,
   "id": "01414079-78d4-44fc-8dc6-91bba01bf825",
   "metadata": {},
   "outputs": [],
   "source": [
    "label_encoder = LabelEncoder()\n",
    "for type in list_object:\n",
    "    data[type] = label_encoder.fit_transform(data[type])"
   ]
  },
  {
   "cell_type": "code",
   "execution_count": 8,
   "id": "57b90426-a8fa-4c9d-a4fe-329d8773d5be",
   "metadata": {},
   "outputs": [
    {
     "name": "stdout",
     "output_type": "stream",
     "text": [
      "<class 'pandas.core.frame.DataFrame'>\n",
      "RangeIndex: 1338 entries, 0 to 1337\n",
      "Data columns (total 7 columns):\n",
      " #   Column    Non-Null Count  Dtype  \n",
      "---  ------    --------------  -----  \n",
      " 0   age       1338 non-null   int64  \n",
      " 1   sex       1338 non-null   int64  \n",
      " 2   bmi       1338 non-null   float64\n",
      " 3   children  1338 non-null   int64  \n",
      " 4   smoker    1338 non-null   int64  \n",
      " 5   region    1338 non-null   int64  \n",
      " 6   charges   1338 non-null   float64\n",
      "dtypes: float64(2), int64(5)\n",
      "memory usage: 73.3 KB\n"
     ]
    }
   ],
   "source": [
    "data.info()"
   ]
  },
  {
   "cell_type": "code",
   "execution_count": 9,
   "id": "632f09b5-4725-461c-b1c0-1074eebc013e",
   "metadata": {},
   "outputs": [
    {
     "data": {
      "text/html": [
       "<div>\n",
       "<style scoped>\n",
       "    .dataframe tbody tr th:only-of-type {\n",
       "        vertical-align: middle;\n",
       "    }\n",
       "\n",
       "    .dataframe tbody tr th {\n",
       "        vertical-align: top;\n",
       "    }\n",
       "\n",
       "    .dataframe thead th {\n",
       "        text-align: right;\n",
       "    }\n",
       "</style>\n",
       "<table border=\"1\" class=\"dataframe\">\n",
       "  <thead>\n",
       "    <tr style=\"text-align: right;\">\n",
       "      <th></th>\n",
       "      <th>age</th>\n",
       "      <th>sex</th>\n",
       "      <th>bmi</th>\n",
       "      <th>children</th>\n",
       "      <th>smoker</th>\n",
       "      <th>region</th>\n",
       "      <th>charges</th>\n",
       "    </tr>\n",
       "  </thead>\n",
       "  <tbody>\n",
       "    <tr>\n",
       "      <th>0</th>\n",
       "      <td>19</td>\n",
       "      <td>0</td>\n",
       "      <td>27.900</td>\n",
       "      <td>0</td>\n",
       "      <td>1</td>\n",
       "      <td>3</td>\n",
       "      <td>16884.92400</td>\n",
       "    </tr>\n",
       "    <tr>\n",
       "      <th>1</th>\n",
       "      <td>18</td>\n",
       "      <td>1</td>\n",
       "      <td>33.770</td>\n",
       "      <td>1</td>\n",
       "      <td>0</td>\n",
       "      <td>2</td>\n",
       "      <td>1725.55230</td>\n",
       "    </tr>\n",
       "    <tr>\n",
       "      <th>2</th>\n",
       "      <td>28</td>\n",
       "      <td>1</td>\n",
       "      <td>33.000</td>\n",
       "      <td>3</td>\n",
       "      <td>0</td>\n",
       "      <td>2</td>\n",
       "      <td>4449.46200</td>\n",
       "    </tr>\n",
       "    <tr>\n",
       "      <th>3</th>\n",
       "      <td>33</td>\n",
       "      <td>1</td>\n",
       "      <td>22.705</td>\n",
       "      <td>0</td>\n",
       "      <td>0</td>\n",
       "      <td>1</td>\n",
       "      <td>21984.47061</td>\n",
       "    </tr>\n",
       "    <tr>\n",
       "      <th>4</th>\n",
       "      <td>32</td>\n",
       "      <td>1</td>\n",
       "      <td>28.880</td>\n",
       "      <td>0</td>\n",
       "      <td>0</td>\n",
       "      <td>1</td>\n",
       "      <td>3866.85520</td>\n",
       "    </tr>\n",
       "  </tbody>\n",
       "</table>\n",
       "</div>"
      ],
      "text/plain": [
       "   age  sex     bmi  children  smoker  region      charges\n",
       "0   19    0  27.900         0       1       3  16884.92400\n",
       "1   18    1  33.770         1       0       2   1725.55230\n",
       "2   28    1  33.000         3       0       2   4449.46200\n",
       "3   33    1  22.705         0       0       1  21984.47061\n",
       "4   32    1  28.880         0       0       1   3866.85520"
      ]
     },
     "execution_count": 9,
     "metadata": {},
     "output_type": "execute_result"
    }
   ],
   "source": [
    "data.head()"
   ]
  },
  {
   "cell_type": "code",
   "execution_count": 10,
   "id": "3acd2cff-30de-4af4-bf3f-0751a9621d67",
   "metadata": {},
   "outputs": [
    {
     "data": {
      "text/plain": [
       "charges     1.000000\n",
       "smoker      0.787251\n",
       "age         0.299008\n",
       "bmi         0.198341\n",
       "children    0.067998\n",
       "sex         0.057292\n",
       "region     -0.006208\n",
       "Name: charges, dtype: float64"
      ]
     },
     "execution_count": 10,
     "metadata": {},
     "output_type": "execute_result"
    }
   ],
   "source": [
    "data.corr().charges.sort_values(ascending =False)"
   ]
  },
  {
   "cell_type": "code",
   "execution_count": 11,
   "id": "65f6b3f5-19c4-4f9f-b6b6-910389c6b372",
   "metadata": {},
   "outputs": [
    {
     "data": {
      "text/plain": [
       "<Axes: >"
      ]
     },
     "execution_count": 11,
     "metadata": {},
     "output_type": "execute_result"
    },
    {
     "data": {
      "image/png": "[encoded data removed]",
      "text/plain": [
       "<Figure size 640x480 with 2 Axes>"
      ]
     },
     "metadata": {},
     "output_type": "display_data"
    }
   ],
   "source": [
    "sns.heatmap(data.corr(), annot =True, cmap='coolwarm')"
   ]
  },
  {
   "cell_type": "markdown",
   "id": "db853f72-fda2-4e1e-b01b-43953bef2bf5",
   "metadata": {},
   "source": [
    "# 5. Division des données : Train et Test "
   ]
  },
  {
   "cell_type": "code",
   "execution_count": 12,
   "id": "625fafd2-48bd-4ea5-8194-398af1f800d9",
   "metadata": {},
   "outputs": [],
   "source": [
    "X = data.iloc [:, :-1]\n",
    "y = data.iloc[:, -1]"
   ]
  },
  {
   "cell_type": "code",
   "execution_count": 13,
   "id": "f4cce8dc-f6cf-4bed-afdc-bf19ba8fcd4e",
   "metadata": {},
   "outputs": [
    {
     "name": "stdout",
     "output_type": "stream",
     "text": [
      "X_shape: (1338, 6)\n",
      "y_shape: (1338,)\n"
     ]
    }
   ],
   "source": [
    "print(f\"X_shape: {X.shape}\")\n",
    "print(f\"y_shape: {y.shape}\")"
   ]
  },
  {
   "cell_type": "code",
   "execution_count": 14,
   "id": "34a4f174-ec60-4722-a771-4a9c65af179b",
   "metadata": {},
   "outputs": [],
   "source": [
    "X_train, X_test, y_train, y_test = train_test_split( X, y, test_size=0.3, random_state=8)"
   ]
  },
  {
   "cell_type": "code",
   "execution_count": 15,
   "id": "86d0e8f2-6fa1-4fa8-825e-914974e2629c",
   "metadata": {},
   "outputs": [
    {
     "name": "stdout",
     "output_type": "stream",
     "text": [
      "X_train: (936, 6)\n",
      "y_train: (936,)\n",
      "X_test: (402, 6)\n",
      "y_test: (402,)\n"
     ]
    }
   ],
   "source": [
    "print(\"X_train:\", X_train.shape)\n",
    "print(\"y_train:\", y_train.shape)\n",
    "print(\"X_test:\", X_test.shape)\n",
    "print(\"y_test:\", y_test.shape)"
   ]
  },
  {
   "cell_type": "markdown",
   "id": "1f1bb738-74c0-4d86-831c-1f2a1523dc65",
   "metadata": {},
   "source": [
    "# 6. Construction du ShallowNeural Network et 5 Algorithmes classiques de Machine Learning "
   ]
  },
  {
   "cell_type": "code",
   "execution_count": 16,
   "id": "7382b974-5383-42f3-9465-089c87929b69",
   "metadata": {},
   "outputs": [],
   "source": [
    "model_list = [RandomForestRegressor(\n",
    "    n_estimators=500,\n",
    "    max_depth=10,\n",
    "    max_features='sqrt',  # <- CORRIGÉ\n",
    "    random_state=42\n",
    "),\n",
    "              DecisionTreeRegressor(),\n",
    "              SVR(),\n",
    "              LinearRegression(),\n",
    "              KNeighborsRegressor()\n",
    "             ]"
   ]
  },
  {
   "cell_type": "markdown",
   "id": "6f0cbace-4c43-4c43-9943-a68dd7c936cb",
   "metadata": {},
   "source": [
    "# 7. Evaluation des modèles"
   ]
  },
  {
   "cell_type": "code",
   "execution_count": 17,
   "id": "3535c972-70ba-4890-ab1b-60965a7acb93",
   "metadata": {},
   "outputs": [
    {
     "name": "stdout",
     "output_type": "stream",
     "text": [
      "RandomForestRegressor(max_depth=10, max_features='sqrt', n_estimators=500,\n",
      "                      random_state=42)\n",
      "\n",
      "Mean_squared_error = 19109882.457264975\n",
      "R2-score =, 0.8633004170354944\n",
      "\n",
      "DecisionTreeRegressor()\n",
      "\n",
      "Mean_squared_error = 38237137.49231611\n",
      "R2-score =, 0.7264765620277831\n",
      "\n",
      "SVR()\n",
      "\n",
      "Mean_squared_error = 151603592.3605204\n",
      "R2-score =, -0.08447280604415086\n",
      "\n",
      "LinearRegression()\n",
      "\n",
      "Mean_squared_error = 33981766.40920341\n",
      "R2-score =, 0.7569166996749708\n",
      "\n",
      "KNeighborsRegressor()\n",
      "\n",
      "Mean_squared_error = 124265780.2322615\n",
      "R2-score =, 0.11108399685362302\n",
      "\n"
     ]
    }
   ],
   "source": [
    "for model in model_list:\n",
    "    model.fit(X_train, y_train)\n",
    "    y_pred = model.predict(X_test)\n",
    "    print(f\"{model}\\n\")\n",
    "    print(\"Mean_squared_error =\", mean_squared_error(y_test, y_pred))\n",
    "    print(f\"R2-score =, {r2_score(y_test, y_pred)}\\n\")"
   ]
  },
  {
   "cell_type": "markdown",
   "id": "5543cbce-f0a4-4c45-be35-80e39c69b475",
   "metadata": {},
   "source": [
    "# 8. Simple prédiction"
   ]
  },
  {
   "cell_type": "code",
   "execution_count": 18,
   "id": "adc17193-499a-4439-bc11-f7d190d5e1b4",
   "metadata": {},
   "outputs": [],
   "source": [
    "model_random = RandomForestRegressor()\n",
    "model_random.fit(X_train, y_train)\n",
    "y_pred2 = model_random.predict(X_test)"
   ]
  },
  {
   "cell_type": "code",
   "execution_count": 19,
   "id": "56d8c885-b92d-433a-b407-341f5de010a9",
   "metadata": {},
   "outputs": [],
   "source": [
    "example_index = np.random.randint(0, len(X_test))\n",
    "example_data = X_test.iloc[example_index].values.reshape(1, -1)"
   ]
  },
  {
   "cell_type": "code",
   "execution_count": 20,
   "id": "3778b0be-d657-494f-b1bc-f9382efb7972",
   "metadata": {},
   "outputs": [],
   "source": [
    "predicted_class = model_random.predict(example_data)"
   ]
  },
  {
   "cell_type": "code",
   "execution_count": 21,
   "id": "bac69e73-d8a3-47bc-bd03-1d064cd74079",
   "metadata": {},
   "outputs": [
    {
     "name": "stdout",
     "output_type": "stream",
     "text": [
      "Example data: [[61.    0.   31.16  0.    0.    1.  ]]\n",
      "predicted_class: [13337.4188061]\n"
     ]
    }
   ],
   "source": [
    "print(f'Example data: {example_data}')\n",
    "print(f'predicted_class: {predicted_class}')"
   ]
  }
 ],
 "metadata": {
  "kernelspec": {
   "display_name": "Python 3 (ipykernel)",
   "language": "python",
   "name": "python3"
  },
  "language_info": {
   "codemirror_mode": {
    "name": "ipython",
    "version": 3
   },
   "file_extension": ".py",
   "mimetype": "text/x-python",
   "name": "python",
   "nbconvert_exporter": "python",
   "pygments_lexer": "ipython3",
   "version": "3.11.10"
  }
 },
 "nbformat": 4,
 "nbformat_minor": 5
}
